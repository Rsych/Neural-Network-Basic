{
  "nbformat": 4,
  "nbformat_minor": 0,
  "metadata": {
    "colab": {
      "name": "ML-1-TF simple LR.ipynb",
      "provenance": [],
      "collapsed_sections": [],
      "authorship_tag": "ABX9TyMnb6hCEH/NG+Keisv80WoX",
      "include_colab_link": true
    },
    "kernelspec": {
      "name": "python3",
      "display_name": "Python 3"
    },
    "language_info": {
      "name": "python"
    }
  },
  "cells": [
    {
      "cell_type": "markdown",
      "metadata": {
        "id": "view-in-github",
        "colab_type": "text"
      },
      "source": [
        "<a href=\"https://colab.research.google.com/github/Rsych/Neural-Network-Basic/blob/master/ML_1_TF_simple_LR.ipynb\" target=\"_parent\"><img src=\"https://colab.research.google.com/assets/colab-badge.svg\" alt=\"Open In Colab\"/></a>"
      ]
    },
    {
      "cell_type": "markdown",
      "metadata": {
        "id": "zeTB5OH9cnyt"
      },
      "source": [
        "# Train linear model\n",
        "\n",
        "## Import dependencies "
      ]
    },
    {
      "cell_type": "code",
      "metadata": {
        "id": "VGdHlVXUcBaf"
      },
      "source": [
        "import tensorflow as tf\n",
        "from tensorflow import keras\n",
        "import logging\n",
        "import numpy as np"
      ],
      "execution_count": null,
      "outputs": []
    },
    {
      "cell_type": "code",
      "metadata": {
        "id": "UVKDQEr4cS47"
      },
      "source": [
        "logger = tf.get_logger()\n",
        "logger.setLevel(logging.ERROR)"
      ],
      "execution_count": null,
      "outputs": []
    },
    {
      "cell_type": "markdown",
      "metadata": {
        "id": "XUnuik8rciR0"
      },
      "source": [
        "## Set up training data"
      ]
    },
    {
      "cell_type": "code",
      "metadata": {
        "colab": {
          "base_uri": "https://localhost:8080/"
        },
        "id": "1Jfrnaykc3yy",
        "outputId": "9d8a10af-84c8-421d-c090-800ebc12062d"
      },
      "source": [
        "c_q = np.array([-40, -10, 0, 8, 15, 22, 38], dtype=float)\n",
        "f_a = np.array([-40, 14, 32, 46, 59, 72, 100], dtype=float)\n",
        "\n",
        "for i, c in enumerate(c_q):\n",
        "    print(f'{c_q} degrees Celcius = {f_a[i]} degrees Fahrenheit')"
      ],
      "execution_count": null,
      "outputs": [
        {
          "output_type": "stream",
          "text": [
            "[-40. -10.   0.   8.  15.  22.  38.] degrees Celcius = -40.0 degrees Fahrenheit\n",
            "[-40. -10.   0.   8.  15.  22.  38.] degrees Celcius = 14.0 degrees Fahrenheit\n",
            "[-40. -10.   0.   8.  15.  22.  38.] degrees Celcius = 32.0 degrees Fahrenheit\n",
            "[-40. -10.   0.   8.  15.  22.  38.] degrees Celcius = 46.0 degrees Fahrenheit\n",
            "[-40. -10.   0.   8.  15.  22.  38.] degrees Celcius = 59.0 degrees Fahrenheit\n",
            "[-40. -10.   0.   8.  15.  22.  38.] degrees Celcius = 72.0 degrees Fahrenheit\n",
            "[-40. -10.   0.   8.  15.  22.  38.] degrees Celcius = 100.0 degrees Fahrenheit\n"
          ],
          "name": "stdout"
        }
      ]
    },
    {
      "cell_type": "markdown",
      "metadata": {
        "id": "CVBPvvcfda2v"
      },
      "source": [
        "### Some Machine Learning terminology\n",
        "\n",
        " - **Feature** - The input(s) to our model. In this case, a single value - the degrees in Celcius.\n",
        " - **Labels** - The output our model predicts. In this case, a single value - the degrees in Fahrenheit.\n",
        " - **Example** - A pair of inputs/outputs used during training. In our case a pair of values from `c_q` and `f_a` at a specific index, such as `(22,72)`."
      ]
    },
    {
      "cell_type": "markdown",
      "metadata": {
        "id": "Gsa1lVuAd9xg"
      },
      "source": [
        "## Create the model\n",
        "\n",
        "Next, create the model. We will use the simplest possible model we can, a Dense network, Since the problem is straightforward, this network will require only a single layer, with a single neuron.\n",
        "\n",
        "### Build a layer\n",
        "\n",
        "We'll build a layer with following configuration:\n",
        "\n",
        " - `input_shape=[1]` - This specifies that the input to this layer is a single value. That is, the shape is a one-dimensional array with one member. Since this is the first (and only) layer, that input shape is the input shape of the entire model. The single value is a floating point number, representing degrees Celsius.\n",
        " - `units=1` - This specifies the number of neurons in the layer. The number of neurons defines how many internal variables the layer has to try to learn how to solve the problem (more later). Since this is the final layer, it is also the size of the model's output - a single float value representing degrees Fahrenheit. (In a multi-layered network ,the size and shape of the layer would need to match the `input_shape` of the next layer."
      ]
    },
    {
      "cell_type": "code",
      "metadata": {
        "id": "zXbFDU3Cg-P4"
      },
      "source": [
        "from keras.layers import Dense\n",
        "from keras import Sequential\n",
        "\n",
        "model = tf.keras.Sequential()\n",
        "\n",
        "model.add(Dense(units=1, input_shape=[1]))"
      ],
      "execution_count": null,
      "outputs": []
    },
    {
      "cell_type": "markdown",
      "metadata": {
        "id": "RWe9UZfZhNWZ"
      },
      "source": [
        "## Compile the model, with loss and optimizer functions\n",
        "\n",
        "Before training, the model has to be compiled. When compiled for training, the model is given:\n",
        " - ***Loss function*** - A way of measuring how far off predictions are from the desired outcome. (The measured difference is called the \"loss\".)\n",
        " - ***Optimizer function*** - A way of adjusting internal values in order to reduce the loss."
      ]
    },
    {
      "cell_type": "code",
      "metadata": {
        "id": "pRdO_zFNiBEv"
      },
      "source": [
        "opt = keras.optimizers.Adam(learning_rate=0.1)\n",
        "\n",
        "model.compile(optimizer=opt, loss='mean_squared_error')"
      ],
      "execution_count": null,
      "outputs": []
    },
    {
      "cell_type": "markdown",
      "metadata": {
        "id": "FNoueLkoksd9"
      },
      "source": [
        "These are used during training (`model.fit()`, below) to first calculate the loss at each point, and then improve it. In fact, the act of calculating the current loss of a model and then improving it is precisely what training is.\n",
        "\n",
        "During training, the optimizer function is used to calculate adjustments to the model's internal variables. The goal is to adjust the internal variables until the model (which is really a math function) mirrors the actual equation for converting Celsius to Fahrenheit.\n",
        "\n",
        "TensorFlow uses numerical analysis to perform this tuning, and all this complexity is hidden from you so we will not go into the details here. What is useful to know about these parameters are:\n",
        "\n",
        "The loss function ([mean squared error](https://en.wikipedia.org/wiki/Mean_squared_error)) and the optimizer ([Adam](https://machinelearningmastery.com/adam-optimization-algorithm-for-deep-learning/)) used here are standard for simple models like this one, but many others are available. It is not important to know how these specific functions work at this point.\n",
        "\n",
        "One part of the Optimizer you may need to think about when building your own models is the learning rate (`0.1` in the code above). This is the step size taken when adjusting values in the model. If the value is too small, it will take too many iterations to train the model. Too large, and accuracy goes down. Finding a good value often involves some trial and error, but the range is usually within 0.001 (default), and 0.1"
      ]
    },
    {
      "cell_type": "markdown",
      "metadata": {
        "id": "nI9CQDr5jTkg"
      },
      "source": [
        "## Train the model\n",
        "\n",
        "Train the model by calling the `fit` method.\n",
        "\n",
        "During training, the model takes in Celsius values, performs a calculation using the current internal variables (called \"weights\") and outputs values which are meant to be the Fahrenheit equivalent. Since the weights are initially set randomly, the output will not be close to the correct value. The difference between the actual output and the desired output is calculated using the loss function, and the optimizer function directs how the weights should be adjusted.\n",
        "\n",
        "This cycle of calculate, compare, adjust is controlled by the `fit` method. The first argument is the inputs, the second argument is the desired outputs. The `epochs` argument specifies how many times this cycle should be run, and the `verbose` argument controls how much output the method produces."
      ]
    },
    {
      "cell_type": "code",
      "metadata": {
        "colab": {
          "base_uri": "https://localhost:8080/"
        },
        "id": "hkcF6jvUjmcC",
        "outputId": "aa6bd972-a758-417d-b80d-2a96ac87df87"
      },
      "source": [
        "history = model.fit(c_q, f_a, epochs=500, verbose=False)\n",
        "print(\"Finished training the model\")"
      ],
      "execution_count": null,
      "outputs": [
        {
          "output_type": "stream",
          "text": [
            "Finished training the model\n"
          ],
          "name": "stdout"
        }
      ]
    },
    {
      "cell_type": "markdown",
      "metadata": {
        "id": "0ESWSlKijwLz"
      },
      "source": [
        "## Display training statistics\n",
        "\n",
        "The `fit` method returns a history object. We can use this object to plot how the loss of our model goes down after each training epoch. A high loss means that the Fahrenheit degrees the model predicts is far from the corresponding value in `fahrenheit_a`.\n",
        "\n",
        "We'll use [Matplotlib](https://matplotlib.org/) to visualize this (you could use another tool). As you can see, our model improves very quickly at first, and then has a steady, slow improvement until it is very near \"perfect\" towards the end."
      ]
    },
    {
      "cell_type": "code",
      "metadata": {
        "colab": {
          "base_uri": "https://localhost:8080/",
          "height": 296
        },
        "id": "qbENx7Dkj8mp",
        "outputId": "3a3477fd-2b37-4bcd-c57b-fb1318129986"
      },
      "source": [
        "import matplotlib.pyplot as plt\n",
        "\n",
        "plt.xlabel('Epoch Number')\n",
        "plt.ylabel('Loss Magnitude')\n",
        "plt.plot(history.history['loss'])"
      ],
      "execution_count": null,
      "outputs": [
        {
          "output_type": "execute_result",
          "data": {
            "text/plain": [
              "[<matplotlib.lines.Line2D at 0x7f83dada81d0>]"
            ]
          },
          "metadata": {
            "tags": []
          },
          "execution_count": 15
        },
        {
          "output_type": "display_data",
          "data": {
            "image/png": "[encoded data removed]",
            "text/plain": [
              "<Figure size 432x288 with 1 Axes>"
            ]
          },
          "metadata": {
            "tags": [],
            "needs_background": "light"
          }
        }
      ]
    },
    {
      "cell_type": "markdown",
      "metadata": {
        "id": "8I4eq8KIkFvI"
      },
      "source": [
        "## Use the model to predict values\n",
        "\n",
        "Now you have a model that has been trained to learn the relationship between `celsius_q` and `fahrenheit_a`. You can use the predict method to have it calculate the Fahrenheit degrees for a previously unknown Celsius degrees.\n",
        "\n",
        "So, for example, if the Celsius value is 100, what do you think the Fahrenheit result will be? Take a guess before you run this code."
      ]
    },
    {
      "cell_type": "code",
      "metadata": {
        "colab": {
          "base_uri": "https://localhost:8080/"
        },
        "id": "9EJR1zCckNPr",
        "outputId": "694937e3-a219-46e7-809f-b35d76a3aa6e"
      },
      "source": [
        "print(model.predict([100.0]))"
      ],
      "execution_count": null,
      "outputs": [
        {
          "output_type": "stream",
          "text": [
            "[[211.55746]]\n"
          ],
          "name": "stdout"
        }
      ]
    },
    {
      "cell_type": "markdown",
      "metadata": {
        "id": "2wf46FTXkPRS"
      },
      "source": [
        "The correct answer is $100 \\times 1.8 + 32 = 212$, so our model is doing really well.\n",
        "\n",
        "### To review\n",
        "\n",
        "\n",
        "*   We created a model with a Dense layer\n",
        "*   We trained it with 3500 examples (7 pairs, over 500 epochs).\n",
        "\n",
        "Our model tuned the variables (weights) in the Dense layer until it was able to return the correct Fahrenheit value for any Celsius value. (Remember, 100 Celsius was not part of our training data.)"
      ]
    },
    {
      "cell_type": "markdown",
      "metadata": {
        "id": "wfvTXS8nkzRz"
      },
      "source": [
        "## Looking at the layer weights\n",
        "\n",
        "Finally, let's print the internal variables of the Dense layer."
      ]
    },
    {
      "cell_type": "code",
      "metadata": {
        "colab": {
          "base_uri": "https://localhost:8080/"
        },
        "id": "ge6bsrHok5aQ",
        "outputId": "f2bebf4c-f136-465d-8a0c-6e0d5c7a0b01"
      },
      "source": [
        "print(f'These are the layer ariables: {model.get_weights()}')"
      ],
      "execution_count": null,
      "outputs": [
        {
          "output_type": "stream",
          "text": [
            "These are the layer ariables: [array([[1.808263]], dtype=float32), array([30.731163], dtype=float32)]\n"
          ],
          "name": "stdout"
        }
      ]
    },
    {
      "cell_type": "markdown",
      "metadata": {
        "id": "ytjeToZ3k_z4"
      },
      "source": [
        "The first variable is close to ~1.8 and the second to ~32. These values (1.8 and 32) are the actual variables in the real conversion formula.\n",
        "\n",
        "This is really close to the values in the conversion formula. We'll explain this in an upcoming video where we show how a Dense layer works, but for a single neuron with a single input and a single output, the internal math looks the same as [the equation for a line](https://en.wikipedia.org/wiki/Linear_equation#Slope%E2%80%93intercept_form), $y = mx + b$, which has the same form as the conversion equation, $f = 1.8c + 32$.\n",
        "\n",
        "Since the form is the same, the variables should converge on the standard values of 1.8 and 32, which is exactly what happened.\n",
        "\n",
        "With additional neurons, additional inputs, and additional outputs, the formula becomes much more complex, but the idea is the same.\n",
        "\n",
        "### A little experiment\n",
        "\n",
        "Just for fun, what if we created more Dense layers with different units, which therefore also has more variables?"
      ]
    },
    {
      "cell_type": "code",
      "metadata": {
        "colab": {
          "base_uri": "https://localhost:8080/"
        },
        "id": "gyGUTDPVlQBc",
        "outputId": "ebf59c87-a7e9-43c1-a4fb-1e74a24ac06e"
      },
      "source": [
        "model = Sequential()\n",
        "model.add(Dense(units=4, input_shape=[1]))\n",
        "model.add(Dense(units=4))\n",
        "model.add(Dense(units=1))\n",
        "opt = tf.keras.optimizers.Adam(learning_rate=0.1)\n",
        "model.compile(optimizer=opt, loss='mean_squared_error')\n",
        "model.fit(c_q, f_a, epochs=500, verbose=False)\n",
        "print('Finished training the model')\n",
        "print(model.predict([100.0]))\n",
        "print(f'Model predicts that 100 degrees Celsius is: {model.predict([100.0])}')\n",
        "print(f'These are the weights: {model.get_weights()}')"
      ],
      "execution_count": null,
      "outputs": [
        {
          "output_type": "stream",
          "text": [
            "Finished training the model\n",
            "[[211.74744]]\n",
            "Model predicts that 100 degrees Celsius is: [[211.74744]]\n",
            "These are the weights: [array([[ 0.6145599 ,  0.16734736, -0.07563966,  0.45187804]],\n",
            "      dtype=float32), array([ 3.4721174, -2.4661448, -3.3634384,  3.4598906], dtype=float32), array([[ 0.9033373 ,  0.19357805, -0.63236445, -0.79650885],\n",
            "       [-0.55480653, -0.11248215, -0.00374274,  0.22401352],\n",
            "       [-0.5254635 , -0.2119959 ,  0.7407405 ,  1.0840354 ],\n",
            "       [ 0.8093311 , -0.271667  , -0.66537344,  0.2090459 ]],\n",
            "      dtype=float32), array([ 3.428331 , -0.9212124, -3.5645888, -3.4170005], dtype=float32), array([[ 1.300278  ],\n",
            "       [ 0.05180428],\n",
            "       [-0.40180495],\n",
            "       [-0.842267  ]], dtype=float32), array([3.3372066], dtype=float32)]\n"
          ],
          "name": "stdout"
        }
      ]
    },
    {
      "cell_type": "code",
      "metadata": {
        "id": "B79H9S6dlvX1"
      },
      "source": [
        ""
      ],
      "execution_count": null,
      "outputs": []
    }
  ]
}