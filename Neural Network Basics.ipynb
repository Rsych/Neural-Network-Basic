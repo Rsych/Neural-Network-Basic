{
 "cells": [
  {
   "cell_type": "markdown",
   "id": "3fb6b217",
   "metadata": {},
   "source": [
    "# Neural Network\n"
   ]
  },
  {
   "cell_type": "code",
   "execution_count": 1,
   "id": "0c5bf8f9",
   "metadata": {},
   "outputs": [],
   "source": [
    "import numpy as np\n",
    "import matplotlib.pyplot as plt"
   ]
  },
  {
   "cell_type": "markdown",
   "id": "1fa0d0fc",
   "metadata": {},
   "source": [
    "## Perceptron Algorithm\n",
    "\n",
    "\n",
    "The perceptron algorithm was invented in 1958 at the Cornell Aeronautical Laboratory by Frank Rosenblatt. Perceptron mimics neuron, inputs data from other neurons and outputs to other neurons. \n",
    "\n",
    "Perceptron has its own weights `w1, w2, ...`, with input `x1, x2, ...`, total sum of inputs `x1w1 + x2w2 + ...` is lower than threshold $\\theta$ outputs 0 vice versa, it is called activate.\n",
    "\n",
    "Without changing structure, by changing weights and threshold we can build AND, NAND and OR gate."
   ]
  },
  {
   "cell_type": "code",
   "execution_count": 2,
   "id": "3ad38498",
   "metadata": {},
   "outputs": [
    {
     "name": "stdout",
     "output_type": "stream",
     "text": [
      "0\n",
      "0\n",
      "1\n"
     ]
    }
   ],
   "source": [
    "def AND(x1, x2):\n",
    "    w1 = 0.5\n",
    "    w2 = 0.5\n",
    "    theta = 0.7\n",
    "    if w1 * x1 + w2 * x2 > theta:\n",
    "        return 1\n",
    "    else:\n",
    "        return 0\n",
    "print(AND(0,0))\n",
    "print(AND(0,1))\n",
    "print(AND(1,1))"
   ]
  },
  {
   "cell_type": "markdown",
   "id": "a88db391",
   "metadata": {},
   "source": [
    "Using multiple perceptrons we can also build XOR gate."
   ]
  },
  {
   "cell_type": "code",
   "execution_count": 3,
   "id": "c4df5f12",
   "metadata": {},
   "outputs": [
    {
     "name": "stdout",
     "output_type": "stream",
     "text": [
      "0\n",
      "1\n",
      "0\n"
     ]
    }
   ],
   "source": [
    "def NAND(x1, x2):\n",
    "    w1 = -0.5\n",
    "    w2 = -0.5\n",
    "    theta = -0.7\n",
    "    if w1 * x1 + w2 * x2 > theta:\n",
    "        return 1\n",
    "    else:\n",
    "        return 0\n",
    "\n",
    "def OR(x1, x2):\n",
    "    w1 = 0.5\n",
    "    w2 = 0.5\n",
    "    theta = 0.2\n",
    "    if w1 * x1 + w2 * x2 > theta:\n",
    "        return 1\n",
    "    else:\n",
    "        return 0\n",
    "\n",
    "def XOR(x1, x2):\n",
    "    return AND(NAND(x1, x2), OR(x1, x2))\n",
    "\n",
    "print(XOR(0,0))\n",
    "print(XOR(0,1))\n",
    "print(XOR(1,1))"
   ]
  },
  {
   "cell_type": "markdown",
   "id": "6a216dfe",
   "metadata": {},
   "source": [
    "## Activation Function\n",
    "\n",
    "Activation function outputs specific values when sum of inputs exceeds threshold. Step function, Sigmoid function, Tanh function, ReLu and Softmax function are most commonly used activation functions.\n"
   ]
  },
  {
   "cell_type": "markdown",
   "id": "e4c192f4",
   "metadata": {},
   "source": [
    "### Step Function\n",
    "\n",
    "Step function has output signal similar to shape of steps. Its outputs changes from `0` to `1` when `x=0`"
   ]
  },
  {
   "cell_type": "code",
   "execution_count": 4,
   "id": "88e1483a",
   "metadata": {},
   "outputs": [
    {
     "data": {
      "image/png": "[encoded data removed]",
      "text/plain": [
       "<Figure size 432x288 with 1 Axes>"
      ]
     },
     "metadata": {
      "needs_background": "light"
     },
     "output_type": "display_data"
    }
   ],
   "source": [
    "def stepfunc(x):\n",
    "    return np.where(x <= 0, 0, 1) # if x <= 0 return 0, else return 1\n",
    "\n",
    "x = np.arange(-10, 10, 0.1)\n",
    "y = stepfunc(x)\n",
    "\n",
    "plt.plot(x, y)\n",
    "plt.title('Step Function')\n",
    "plt.show()"
   ]
  },
  {
   "cell_type": "markdown",
   "id": "71faaa3c",
   "metadata": {},
   "source": [
    "### Sigmoid Function\n",
    "\n",
    "Sigmoid means ressembling the latin letter $S$, also graph looks similar to $S$. Sigmoid function is defined as :\n",
    "\n",
    "$$\n",
    "y = \\frac{1}{1 + e^{-x}}\n",
    "$$\n",
    "\n",
    "Outputs are real number between 0 to 1"
   ]
  },
  {
   "cell_type": "code",
   "execution_count": 13,
   "id": "945914ce",
   "metadata": {},
   "outputs": [
    {
     "data": {
      "image/png": "[encoded data removed]",
      "text/plain": [
       "<Figure size 432x288 with 1 Axes>"
      ]
     },
     "metadata": {
      "needs_background": "light"
     },
     "output_type": "display_data"
    }
   ],
   "source": [
    "def sigmoid(x):\n",
    "    return 1 / (1 + np.exp(-x))\n",
    "x = np.arange(-10, 10, 0.1)\n",
    "y = sigmoid(x)\n",
    "\n",
    "plt.plot(x,y)\n",
    "plt.title('Sigmoid Function')\n",
    "plt.show()"
   ]
  },
  {
   "cell_type": "markdown",
   "id": "eb0d2c04",
   "metadata": {},
   "source": [
    "### tanh Function\n",
    "\n",
    "tanh is hyperbolic tangent, it outputs similar graph as sigmoid while sigmoid outputs `0 ~ 1` tanh outputs `-1 ~ 1`.\n",
    "tanh is defined as :\n",
    "\n",
    "\n",
    "$$\n",
    "y = \\frac{\\sinh{x}}{\\cosh{x}} = \\frac{e^{x}-e^{-x}}{e^{x} + e^{-x}} = \\frac{e^{2x}-1}{e^{2x} +1}\n",
    "$$\n",
    "\n",
    "Numpy already has `np.tanh()` function, however we'll be not using `np.tanh()` here."
   ]
  },
  {
   "cell_type": "code",
   "execution_count": 17,
   "id": "0a1a360e",
   "metadata": {},
   "outputs": [
    {
     "data": {
      "image/png": "[encoded data removed]",
      "text/plain": [
       "<Figure size 432x288 with 1 Axes>"
      ]
     },
     "metadata": {
      "needs_background": "light"
     },
     "output_type": "display_data"
    }
   ],
   "source": [
    "def tanh(x):\n",
    "    return ((np.exp(2 * x) - 1) / (np.exp(2 * x) + 1) )\n",
    "x = np.arange(-10, 10, 0.1)\n",
    "y = tanh(x)\n",
    "\n",
    "plt.plot(x,y)\n",
    "plt.title('tanh Function')\n",
    "plt.show()"
   ]
  },
  {
   "cell_type": "markdown",
   "id": "39a10d0c",
   "metadata": {},
   "source": [
    "### ReLU Function\n",
    "\n",
    "Sigmoid function was used in the field of neural networks, nowadays ReLU (Rectified linear unit) function is used more often. As `R` stands for rectified, ReLU function turns negative values into 0, therefore if input is below 0, outputs 0, if input exceeds 0, outputs given values."
   ]
  },
  {
   "cell_type": "code",
   "execution_count": 23,
   "id": "8df4051c",
   "metadata": {},
   "outputs": [
    {
     "data": {
      "image/png": "[encoded data removed]",
      "text/plain": [
       "<Figure size 432x288 with 1 Axes>"
      ]
     },
     "metadata": {
      "needs_background": "light"
     },
     "output_type": "display_data"
    }
   ],
   "source": [
    "def relu(x):\n",
    "    return np.maximum(0, x)\n",
    "\n",
    "x = np.arange(-10, 10, 0.1)\n",
    "y = relu(x)\n",
    "\n",
    "plt.plot(x,y)\n",
    "plt.title('ReLU Function')\n",
    "plt.show()"
   ]
  },
  {
   "cell_type": "markdown",
   "id": "0b9fe649",
   "metadata": {},
   "source": [
    "### Softmax\n",
    "\n",
    "Softmax is activation function of a neural network to normalize the output of a network to a probability distribution over predicted output classes. it normalizes values into `0 ~ 1`. Softmax can be defined as :\n",
    "\n",
    "x = The input values \\\n",
    "n = The number of classes in the multi-class classifier.\n",
    "\n",
    "$$\n",
    "y = \\frac{e^{x}}{\\sum_{k=1}^{n} e^{x_k}}\n",
    "$$\n",
    "\n",
    "https://en.wikipedia.org/wiki/Softmax_function"
   ]
  },
  {
   "cell_type": "code",
   "execution_count": 27,
   "id": "865b1c39",
   "metadata": {},
   "outputs": [
    {
     "name": "stdout",
     "output_type": "stream",
     "text": [
      "[0.0017818  0.0017818  0.0131658  0.26444219 0.71882841]\n"
     ]
    }
   ],
   "source": [
    "def softmax(x):\n",
    "    return np.exp(x) / np.sum(np.exp(x))\n",
    "\n",
    "print(softmax([1,1,3,6,7]))"
   ]
  },
  {
   "cell_type": "markdown",
   "id": "8c8cdac6",
   "metadata": {},
   "source": [
    "## Multilayer perceptron\n",
    "\n",
    "We've seen singlelayer perceptron can only perform "
   ]
  }
 ],
 "metadata": {
  "kernelspec": {
   "display_name": "Python 3",
   "language": "python",
   "name": "python3"
  },
  "language_info": {
   "codemirror_mode": {
    "name": "ipython",
    "version": 3
   },
   "file_extension": ".py",
   "mimetype": "text/x-python",
   "name": "python",
   "nbconvert_exporter": "python",
   "pygments_lexer": "ipython3",
   "version": "3.7.10"
  }
 },
 "nbformat": 4,
 "nbformat_minor": 5
}
